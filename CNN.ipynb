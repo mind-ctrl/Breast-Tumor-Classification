{
 "cells": [
  {
   "cell_type": "markdown",
   "metadata": {},
   "source": [
    "## Part 1 - Building the CNN"
   ]
  },
  {
   "cell_type": "code",
   "execution_count": 1,
   "metadata": {},
   "outputs": [
    {
     "name": "stderr",
     "output_type": "stream",
     "text": [
      "/anaconda3/lib/python3.6/site-packages/h5py/__init__.py:36: FutureWarning: Conversion of the second argument of issubdtype from `float` to `np.floating` is deprecated. In future, it will be treated as `np.float64 == np.dtype(float).type`.\n",
      "  from ._conv import register_converters as _register_converters\n",
      "Using TensorFlow backend.\n"
     ]
    }
   ],
   "source": [
    "# Importing the Keras libraries and packages\n",
    "from keras.models import Sequential\n",
    "from keras.layers import Conv2D\n",
    "from keras.layers import MaxPooling2D\n",
    "from keras.layers import Flatten\n",
    "from keras.layers import Dense\n",
    "from keras.layers import Dropout\n",
    "\n",
    "# Initialising the CNN\n",
    "classifier = Sequential()\n",
    "\n",
    "# Step 1 - Convolution\n",
    "classifier.add(Conv2D(32, (3, 3), input_shape = (64, 64, 3), activation = 'relu'))\n",
    "\n",
    "# Step 2 - Pooling\n",
    "classifier.add(MaxPooling2D(pool_size = (2, 2)))\n",
    "classifier.add(Dropout(0.3))\n",
    "\n",
    "# Adding a second convolutional layer\n",
    "classifier.add(Conv2D(32, (3, 3), activation = 'relu'))\n",
    "classifier.add(MaxPooling2D(pool_size = (2, 2)))\n",
    "classifier.add(Dropout(0.3))\n",
    "\n",
    "\n",
    "# Step 3 - Flattening\n",
    "classifier.add(Flatten())\n",
    "\n",
    "# Step 4 - Full connection\n",
    "classifier.add(Dense(units = 128, activation = 'relu'))\n",
    "classifier.add(Dense(units = 1, activation = 'sigmoid'))\n",
    "\n",
    "# Compiling the CNN\n",
    "classifier.compile(optimizer = 'adam', loss = 'binary_crossentropy', metrics = ['accuracy'])"
   ]
  },
  {
   "cell_type": "markdown",
   "metadata": {},
   "source": [
    "## Part 2 Image Augmentation and Data Preprocessing\n",
    "\n",
    "### Training Set : 281 Images\n",
    "### Validation Set : 49 Images"
   ]
  },
  {
   "cell_type": "code",
   "execution_count": 2,
   "metadata": {},
   "outputs": [
    {
     "name": "stdout",
     "output_type": "stream",
     "text": [
      "Found 281 images belonging to 2 classes.\n",
      "Found 49 images belonging to 2 classes.\n"
     ]
    }
   ],
   "source": [
    "from keras.preprocessing.image import ImageDataGenerator\n",
    "\n",
    "train_datagen = ImageDataGenerator(rescale = 1./255,\n",
    "                                   shear_range = 0.2,\n",
    "                                   zoom_range = 0.2,\n",
    "                                   horizontal_flip = True)\n",
    "\n",
    "test_datagen = ImageDataGenerator(rescale = 1./255)\n",
    "\n",
    "training_set = train_datagen.flow_from_directory('dataset/Train',\n",
    "                                                 target_size = (64, 64),\n",
    "                                                 batch_size = 32,\n",
    "                                                 class_mode = 'binary')\n",
    "\n",
    "test_set = test_datagen.flow_from_directory('dataset/Test',\n",
    "                                            target_size = (64, 64),\n",
    "                                            batch_size = 32,\n",
    "                                            class_mode = 'binary')"
   ]
  },
  {
   "cell_type": "markdown",
   "metadata": {},
   "source": [
    "## Part 3 - Fitting the CNN to the images"
   ]
  },
  {
   "cell_type": "code",
   "execution_count": 3,
   "metadata": {},
   "outputs": [
    {
     "name": "stdout",
     "output_type": "stream",
     "text": [
      "Epoch 1/25\n",
      "281/281 [==============================] - 52s 186ms/step - loss: 0.5417 - acc: 0.7138 - val_loss: 0.6544 - val_acc: 0.6747\n",
      "Epoch 2/25\n",
      "281/281 [==============================] - 51s 182ms/step - loss: 0.3042 - acc: 0.8674 - val_loss: 1.0182 - val_acc: 0.6738\n",
      "Epoch 3/25\n",
      "281/281 [==============================] - 51s 182ms/step - loss: 0.1469 - acc: 0.9440 - val_loss: 1.1104 - val_acc: 0.7136\n",
      "Epoch 4/25\n",
      "281/281 [==============================] - 51s 183ms/step - loss: 0.0786 - acc: 0.9725 - val_loss: 1.1758 - val_acc: 0.7740\n",
      "Epoch 5/25\n",
      "281/281 [==============================] - 50s 179ms/step - loss: 0.0390 - acc: 0.9874 - val_loss: 1.1829 - val_acc: 0.7558\n",
      "Epoch 6/25\n",
      "281/281 [==============================] - 49s 176ms/step - loss: 0.0336 - acc: 0.9887 - val_loss: 1.3102 - val_acc: 0.7136\n",
      "Epoch 7/25\n",
      "281/281 [==============================] - 50s 176ms/step - loss: 0.0222 - acc: 0.9929 - val_loss: 1.2847 - val_acc: 0.7748\n",
      "Epoch 8/25\n",
      "281/281 [==============================] - 50s 178ms/step - loss: 0.0211 - acc: 0.9934 - val_loss: 1.4954 - val_acc: 0.7550\n",
      "Epoch 9/25\n",
      "281/281 [==============================] - 49s 175ms/step - loss: 0.0185 - acc: 0.9933 - val_loss: 1.5678 - val_acc: 0.7359\n",
      "Epoch 10/25\n",
      "281/281 [==============================] - 49s 175ms/step - loss: 0.0085 - acc: 0.9973 - val_loss: 1.5124 - val_acc: 0.7326\n",
      "Epoch 11/25\n",
      "281/281 [==============================] - 50s 177ms/step - loss: 0.0146 - acc: 0.9954 - val_loss: 1.4353 - val_acc: 0.7566\n",
      "Epoch 12/25\n",
      "281/281 [==============================] - 50s 177ms/step - loss: 0.0102 - acc: 0.9967 - val_loss: 1.5865 - val_acc: 0.7326\n",
      "Epoch 13/25\n",
      "281/281 [==============================] - 50s 179ms/step - loss: 0.0150 - acc: 0.9945 - val_loss: 1.5040 - val_acc: 0.7732\n",
      "Epoch 14/25\n",
      "281/281 [==============================] - 50s 178ms/step - loss: 0.0092 - acc: 0.9969 - val_loss: 1.6643 - val_acc: 0.7541\n",
      "Epoch 15/25\n",
      "281/281 [==============================] - 50s 177ms/step - loss: 0.0055 - acc: 0.9984 - val_loss: 1.7248 - val_acc: 0.7152\n",
      "Epoch 16/25\n",
      "281/281 [==============================] - 50s 179ms/step - loss: 0.0113 - acc: 0.9964 - val_loss: 1.6209 - val_acc: 0.7152\n",
      "Epoch 17/25\n",
      "281/281 [==============================] - 50s 177ms/step - loss: 0.0099 - acc: 0.9968 - val_loss: 1.4748 - val_acc: 0.7127\n",
      "Epoch 18/25\n",
      "281/281 [==============================] - 50s 177ms/step - loss: 0.0098 - acc: 0.9970 - val_loss: 1.2618 - val_acc: 0.7351\n",
      "Epoch 19/25\n",
      "281/281 [==============================] - 50s 178ms/step - loss: 0.0106 - acc: 0.9967 - val_loss: 1.8765 - val_acc: 0.6548\n",
      "Epoch 20/25\n",
      "281/281 [==============================] - 49s 174ms/step - loss: 0.0054 - acc: 0.9979 - val_loss: 1.6688 - val_acc: 0.6912\n",
      "Epoch 21/25\n",
      "281/281 [==============================] - 50s 178ms/step - loss: 0.0127 - acc: 0.9962 - val_loss: 1.2565 - val_acc: 0.7558\n",
      "Epoch 22/25\n",
      "281/281 [==============================] - 50s 178ms/step - loss: 0.0065 - acc: 0.9981 - val_loss: 1.3732 - val_acc: 0.7757\n",
      "Epoch 23/25\n",
      "281/281 [==============================] - 50s 178ms/step - loss: 0.0126 - acc: 0.9950 - val_loss: 2.0054 - val_acc: 0.6523\n",
      "Epoch 24/25\n",
      "281/281 [==============================] - 49s 175ms/step - loss: 0.0031 - acc: 0.9991 - val_loss: 1.5172 - val_acc: 0.7541\n",
      "Epoch 25/25\n",
      "281/281 [==============================] - 50s 178ms/step - loss: 0.0045 - acc: 0.9983 - val_loss: 1.8270 - val_acc: 0.7541\n"
     ]
    }
   ],
   "source": [
    "history = classifier.fit_generator(training_set,\n",
    "                         steps_per_epoch = 281,\n",
    "                         epochs = 25,\n",
    "                         validation_data = test_set,\n",
    "                         validation_steps = 49)\n"
   ]
  },
  {
   "cell_type": "markdown",
   "metadata": {},
   "source": [
    "### Got a Training Accuracy : 99.74 %\n",
    "### Got a Validation Accuracy : 75.41 %\n",
    "<br><br><br><br>"
   ]
  },
  {
   "cell_type": "markdown",
   "metadata": {},
   "source": [
    "## Saving Model and Weights !\n",
    "\n"
   ]
  },
  {
   "cell_type": "code",
   "execution_count": 20,
   "metadata": {},
   "outputs": [
    {
     "name": "stdout",
     "output_type": "stream",
     "text": [
      "Saved model to disk\n"
     ]
    }
   ],
   "source": [
    "# Saving Model and Weights\n",
    "model_json = classifier.to_json()\n",
    "with open(\"model.json\", \"w\") as json_file:\n",
    "    json_file.write(model_json)\n",
    "# serialize weights to HDF5\n",
    "classifier.save_weights(\"model.h5\")\n",
    "print(\"Saved model to disk\")"
   ]
  },
  {
   "cell_type": "markdown",
   "metadata": {},
   "source": [
    "## Load json and Create Model\n",
    "\n"
   ]
  },
  {
   "cell_type": "code",
   "execution_count": 56,
   "metadata": {},
   "outputs": [
    {
     "name": "stdout",
     "output_type": "stream",
     "text": [
      "Loaded model from disk\n"
     ]
    }
   ],
   "source": [
    "from keras.models import model_from_json\n",
    "json_file = open('model.json', 'r')\n",
    "loaded_model_json = json_file.read()\n",
    "json_file.close()\n",
    "loaded_model = model_from_json(loaded_model_json)\n",
    "# load weights into new model\n",
    "h = loaded_model.load_weights(\"model.h5\")\n",
    "print(\"Loaded model from disk\")"
   ]
  },
  {
   "cell_type": "markdown",
   "metadata": {},
   "source": [
    "## Part 3 - Making new predictions"
   ]
  },
  {
   "cell_type": "code",
   "execution_count": 5,
   "metadata": {},
   "outputs": [],
   "source": [
    "y_actual = [0,0,0,0,0,0,0,1,1,1,1,1,1,1,1,1,1,1]\n",
    "y_pred = []"
   ]
  },
  {
   "cell_type": "code",
   "execution_count": 6,
   "metadata": {},
   "outputs": [],
   "source": [
    "import numpy as np\n",
    "from keras.preprocessing import image\n",
    "\n",
    "for no in range(1,19):\n",
    "    s = 'dataset/Pred/'+str(no)+'.jpg'\n",
    "    test_image = image.load_img(s, target_size = (64, 64))\n",
    "    test_image = image.img_to_array(test_image)\n",
    "    test_image = np.expand_dims(test_image, axis = 0)\n",
    "    result = classifier.predict(test_image)\n",
    "    y_pred.append(result[0][0])"
   ]
  },
  {
   "cell_type": "code",
   "execution_count": 7,
   "metadata": {},
   "outputs": [
    {
     "data": {
      "text/plain": [
       "{'Benign': 0, 'Malignant': 1}"
      ]
     },
     "execution_count": 7,
     "metadata": {},
     "output_type": "execute_result"
    }
   ],
   "source": [
    "training_set.class_indices"
   ]
  },
  {
   "cell_type": "code",
   "execution_count": 8,
   "metadata": {},
   "outputs": [
    {
     "data": {
      "text/plain": [
       "[0, 0, 0, 0, 0, 0, 0, 1, 1, 1, 1, 1, 1, 1, 1, 1, 1, 1]"
      ]
     },
     "execution_count": 8,
     "metadata": {},
     "output_type": "execute_result"
    }
   ],
   "source": [
    "y_actual"
   ]
  },
  {
   "cell_type": "code",
   "execution_count": 12,
   "metadata": {},
   "outputs": [
    {
     "data": {
      "text/plain": [
       "[1.0,\n",
       " 0.0,\n",
       " 0.0,\n",
       " 0.0,\n",
       " 0.0,\n",
       " 0.0,\n",
       " 1.8242457e-21,\n",
       " 1.0,\n",
       " 0.0,\n",
       " 1.0,\n",
       " 1.0,\n",
       " 1.0,\n",
       " 1.0,\n",
       " 1.0,\n",
       " 0.0,\n",
       " 0.0,\n",
       " 0.0,\n",
       " 0.0]"
      ]
     },
     "execution_count": 12,
     "metadata": {},
     "output_type": "execute_result"
    }
   ],
   "source": [
    "y_pred"
   ]
  },
  {
   "cell_type": "code",
   "execution_count": 13,
   "metadata": {},
   "outputs": [],
   "source": [
    "y_pred[6] = 0"
   ]
  },
  {
   "cell_type": "markdown",
   "metadata": {},
   "source": [
    "## Part 4 - Calculating the Accuracy"
   ]
  },
  {
   "cell_type": "code",
   "execution_count": 14,
   "metadata": {},
   "outputs": [
    {
     "data": {
      "text/plain": [
       "0.6666666666666666"
      ]
     },
     "execution_count": 14,
     "metadata": {},
     "output_type": "execute_result"
    }
   ],
   "source": [
    "from sklearn.metrics import accuracy_score\n",
    "accuracy_score(y_actual, y_pred)"
   ]
  },
  {
   "cell_type": "markdown",
   "metadata": {},
   "source": [
    "## Got a Testing Accuracy of 66.666% on 18 Test Images"
   ]
  },
  {
   "cell_type": "markdown",
   "metadata": {},
   "source": [
    "## Part 5 - Visulizations of Training and Validation Accuracy."
   ]
  },
  {
   "cell_type": "code",
   "execution_count": 18,
   "metadata": {},
   "outputs": [
    {
     "data": {
      "image/png": "[encoded data removed]",
      "text/plain": [
       "<matplotlib.figure.Figure at 0x1824904048>"
      ]
     },
     "metadata": {},
     "output_type": "display_data"
    }
   ],
   "source": [
    "import matplotlib.pyplot as plt\n",
    "\n",
    "plt.plot(history.history['acc'])\n",
    "plt.plot(history.history['val_acc']\n",
    "        )\n",
    "plt.title('model accuracy')\n",
    "plt.ylabel('accuracy')\n",
    "plt.xlabel('epoch')\n",
    "plt.legend(['Train', 'Validation'], loc='upper left')\n",
    "plt.show()"
   ]
  },
  {
   "cell_type": "code",
   "execution_count": 19,
   "metadata": {},
   "outputs": [
    {
     "data": {
      "text/plain": [
       "dict_keys(['val_loss', 'val_acc', 'loss', 'acc'])"
      ]
     },
     "execution_count": 19,
     "metadata": {},
     "output_type": "execute_result"
    }
   ],
   "source": [
    "history.history.keys()"
   ]
  },
  {
   "cell_type": "code",
   "execution_count": null,
   "metadata": {},
   "outputs": [],
   "source": []
  }
 ],
 "metadata": {
  "kernelspec": {
   "display_name": "Python 3",
   "language": "python",
   "name": "python3"
  },
  "language_info": {
   "codemirror_mode": {
    "name": "ipython",
    "version": 3
   },
   "file_extension": ".py",
   "mimetype": "text/x-python",
   "name": "python",
   "nbconvert_exporter": "python",
   "pygments_lexer": "ipython3",
   "version": "3.6.4"
  }
 },
 "nbformat": 4,
 "nbformat_minor": 2
}
